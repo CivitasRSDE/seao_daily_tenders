{
 "cells": [
  {
   "cell_type": "code",
   "execution_count": 6,
   "metadata": {},
   "outputs": [],
   "source": [
    "from selenium import webdriver\n",
    "from selenium.webdriver.common.by import By\n",
    "import time\n",
    "import csv\n",
    "\n"
   ]
  },
  {
   "cell_type": "code",
   "execution_count": 4,
   "metadata": {},
   "outputs": [],
   "source": [
    "driver = webdriver.Chrome()\n",
    "driver.get('https://seao.gouv.qc.ca/avis-resultat-recherche?statIds=6&tpIds=2%2C3%2C5%2C6%2C7%2C8%2C10%2C14%2C15%2C17%2C18&dtePubFrm=2025-01-13T19:48:58.9601259Z&dtePubTo=2025-01-14T19:48:58.9601262Z&catIds=53&prov=AvisDuJour')\n",
    "time.sleep(5)"
   ]
  },
  {
   "cell_type": "code",
   "execution_count": 8,
   "metadata": {},
   "outputs": [],
   "source": [
    "table  = driver.find_element(By.CLASS_NAME, 'table')\n",
    "rows = table.find_elements(By.TAG_NAME, 'tr')"
   ]
  },
  {
   "cell_type": "code",
   "execution_count": 10,
   "metadata": {},
   "outputs": [
    {
     "name": "stdout",
     "output_type": "stream",
     "text": [
      "[<selenium.webdriver.remote.webelement.WebElement (session=\"e23108b897b3a1015d4e60ef30990e13\", element=\"f.A19B9E816C9258D776FC32839D3161A8.d.01BDB3A6931C99063DCB195B689D8130.e.101\")>, <selenium.webdriver.remote.webelement.WebElement (session=\"e23108b897b3a1015d4e60ef30990e13\", element=\"f.A19B9E816C9258D776FC32839D3161A8.d.01BDB3A6931C99063DCB195B689D8130.e.102\")>, <selenium.webdriver.remote.webelement.WebElement (session=\"e23108b897b3a1015d4e60ef30990e13\", element=\"f.A19B9E816C9258D776FC32839D3161A8.d.01BDB3A6931C99063DCB195B689D8130.e.103\")>, <selenium.webdriver.remote.webelement.WebElement (session=\"e23108b897b3a1015d4e60ef30990e13\", element=\"f.A19B9E816C9258D776FC32839D3161A8.d.01BDB3A6931C99063DCB195B689D8130.e.104\")>, <selenium.webdriver.remote.webelement.WebElement (session=\"e23108b897b3a1015d4e60ef30990e13\", element=\"f.A19B9E816C9258D776FC32839D3161A8.d.01BDB3A6931C99063DCB195B689D8130.e.105\")>, <selenium.webdriver.remote.webelement.WebElement (session=\"e23108b897b3a1015d4e60ef30990e13\", element=\"f.A19B9E816C9258D776FC32839D3161A8.d.01BDB3A6931C99063DCB195B689D8130.e.106\")>, <selenium.webdriver.remote.webelement.WebElement (session=\"e23108b897b3a1015d4e60ef30990e13\", element=\"f.A19B9E816C9258D776FC32839D3161A8.d.01BDB3A6931C99063DCB195B689D8130.e.107\")>, <selenium.webdriver.remote.webelement.WebElement (session=\"e23108b897b3a1015d4e60ef30990e13\", element=\"f.A19B9E816C9258D776FC32839D3161A8.d.01BDB3A6931C99063DCB195B689D8130.e.108\")>]\n"
     ]
    }
   ],
   "source": [
    "print(rows)"
   ]
  },
  {
   "cell_type": "code",
   "execution_count": 11,
   "metadata": {},
   "outputs": [],
   "source": [
    "data = []\n",
    "\n",
    "for row in rows:\n",
    "    cols = row.find_elements(By.TAG_NAME, 'td')\n",
    "    if len(cols) >= 4:\n",
    "        statut = cols[0].text\n",
    "        avis = cols[1].text\n",
    "        publication = cols[2].text\n",
    "        fermeture = cols[3].text\n",
    "        data.append([statut, avis, publication, fermeture])\n",
    "\n",
    "with open('seao_data.csv', 'w', newline='', encoding='utf-8') as csvfile:\n",
    "    writer = csv.writer(csvfile)\n",
    "    writer.writerow(['Statut', 'Avis', 'Publication', 'Fermeture'])\n",
    "    writer.writerows(data)\n",
    "\n",
    "driver.quit()"
   ]
  },
  {
   "cell_type": "code",
   "execution_count": null,
   "metadata": {},
   "outputs": [],
   "source": []
  },
  {
   "cell_type": "code",
   "execution_count": null,
   "metadata": {},
   "outputs": [],
   "source": []
  },
  {
   "cell_type": "code",
   "execution_count": null,
   "metadata": {},
   "outputs": [],
   "source": []
  }
 ],
 "metadata": {
  "kernelspec": {
   "display_name": "det2",
   "language": "python",
   "name": "python3"
  },
  "language_info": {
   "codemirror_mode": {
    "name": "ipython",
    "version": 3
   },
   "file_extension": ".py",
   "mimetype": "text/x-python",
   "name": "python",
   "nbconvert_exporter": "python",
   "pygments_lexer": "ipython3",
   "version": "3.11.9"
  }
 },
 "nbformat": 4,
 "nbformat_minor": 2
}
